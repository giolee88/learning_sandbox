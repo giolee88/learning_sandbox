{
 "cells": [
  {
   "cell_type": "code",
   "execution_count": null,
   "metadata": {
    "collapsed": false
   },
   "outputs": [],
   "source": [
    "# Dependencies\n",
    "import tweepy\n",
    "import json\n",
    "import numpy as np\n",
    "from datetime import datetime\n",
    "import matplotlib.pyplot as plt\n",
    "\n",
    "# Twitter API Keys\n",
    "consumer_key = \"Ed4RNulN1lp7AbOooHa9STCoU\"\n",
    "consumer_secret = \"P7cUJlmJZq0VaCY0Jg7COliwQqzK0qYEyUF9Y0idx4ujb3ZlW5\"\n",
    "access_token = \"839621358724198402-dzdOsx2WWHrSuBwyNUiqSEnTivHozAZ\"\n",
    "access_token_secret = \"dCZ80uNRbFDjxdU2EckmNiSckdoATach6Q8zb7YYYE5ER\"\n",
    "\n",
    "# Setup Tweepy API Authentication\n",
    "auth = tweepy.OAuthHandler(consumer_key, consumer_secret)\n",
    "auth.set_access_token(access_token, access_token_secret)\n",
    "api = tweepy.API(auth, parser=tweepy.parsers.JSONParser())"
   ]
  },
  {
   "cell_type": "code",
   "execution_count": null,
   "metadata": {
    "collapsed": false
   },
   "outputs": [],
   "source": [
    "# Target User\n",
    "target_user = \"realdonaldtrump\"\n",
    "\n",
    "# Create array to record all date-times of tweets\n",
    "tweet_times = []\n",
    "\n",
    "# Loop through 500 tweets\n",
    "for x in range(25):\n",
    "    \n",
    "    # Get all tweets from target user\n",
    "    public_tweets = api.user_timeline(target_user, page=x)\n",
    "\n",
    "    # Loop through all tweets\n",
    "    for tweet in public_tweets:\n",
    "        \n",
    "        # Store all tweet times into the array\n",
    "        tweet_times.append(tweet[\"created_at\"])\n",
    "        \n",
    "        # Print tweets for preview\n",
    "        print(tweet[\"created_at\"])\n",
    "\n",
    "# Confirm tweet counts\n",
    "len(tweet_times)"
   ]
  },
  {
   "cell_type": "code",
   "execution_count": null,
   "metadata": {
    "collapsed": false,
    "scrolled": false
   },
   "outputs": [],
   "source": [
    "# Convert all tweet times into datetime objects\n",
    "tweet_time_objects = []\n",
    "\n",
    "# Add each datetime object into the array\n",
    "for x in range(len(tweet_times)):\n",
    "    tweet_datetime = datetime.strptime(tweet_times[x], \"%a %b %d %H:%M:%S %z %Y\")\n",
    "    tweet_time_objects.append(tweet_datetime)\n",
    "\n",
    "    # Preview that datetimes are matching\n",
    "    print(tweet_times[x])\n",
    "    print(tweet_datetime)"
   ]
  },
  {
   "cell_type": "code",
   "execution_count": 112,
   "metadata": {
    "collapsed": false,
    "scrolled": false
   },
   "outputs": [
    {
     "name": "stdout",
     "output_type": "stream",
     "text": [
      "Avg. Hours Between Tweets: 4.03735359608\n"
     ]
    }
   ],
   "source": [
    "# Calculate the time between tweets\n",
    "time_in_between = []\n",
    "\n",
    "# Calculate the time in between each tweet\n",
    "for x in range(len(tweet_time_objects)-1):\n",
    "    mins_apart = ((tweet_time_objects[x] - tweet_time_objects[x+1]).seconds) / 3600\n",
    "    time_in_between.append(mins_apart)\n",
    "\n",
    "# Hours Between Tweets\n",
    "print(\"Avg. Hours Between Tweets: %s\" % np.mean(time_in_between))"
   ]
  },
  {
   "cell_type": "code",
   "execution_count": null,
   "metadata": {
    "collapsed": false
   },
   "outputs": [],
   "source": [
    "time_in_between"
   ]
  },
  {
   "cell_type": "code",
   "execution_count": null,
   "metadata": {
    "collapsed": false
   },
   "outputs": [],
   "source": [
    "# Plot Time Between Twets\n",
    "plt.plot(range(len(time_in_between)), time_in_between, marker=\"o\", \n",
    "               linewidth=0.25, alpha=0.8, color=\"r\")\n",
    "plt.xlim([0, len(time_in_between)])\n",
    "plt.ylabel(\"Hours Apart\")\n",
    "plt.xlabel(\"Tweets Ago\")\n",
    "plt.title(\"Tweet Velocity: %s\" % target_user)\n",
    "plt.show()"
   ]
  },
  {
   "cell_type": "code",
   "execution_count": null,
   "metadata": {
    "collapsed": true
   },
   "outputs": [],
   "source": []
  }
 ],
 "metadata": {
  "anaconda-cloud": {},
  "kernelspec": {
   "display_name": "Python 3",
   "language": "python",
   "name": "python3"
  },
  "language_info": {
   "codemirror_mode": {
    "name": "ipython",
    "version": 3
   },
   "file_extension": ".py",
   "mimetype": "text/x-python",
   "name": "python",
   "nbconvert_exporter": "python",
   "pygments_lexer": "ipython3",
   "version": "3.6.0"
  }
 },
 "nbformat": 4,
 "nbformat_minor": 1
}
