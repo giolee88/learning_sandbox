{
 "cells": [
  {
   "cell_type": "code",
   "execution_count": 1,
   "metadata": {
    "collapsed": true
   },
   "outputs": [],
   "source": [
    "# Dependencies\n",
    "import tweepy\n",
    "import json\n",
    "import pandas as pd\n",
    "\n",
    "# Twitter API Keys\n",
    "consumer_key = \"Ed4RNulN1lp7AbOooHa9STCoU\"\n",
    "consumer_secret = \"P7cUJlmJZq0VaCY0Jg7COliwQqzK0qYEyUF9Y0idx4ujb3ZlW5\"\n",
    "access_token = \"839621358724198402-dzdOsx2WWHrSuBwyNUiqSEnTivHozAZ\"\n",
    "access_token_secret = \"dCZ80uNRbFDjxdU2EckmNiSckdoATach6Q8zb7YYYE5ER\"\n",
    "\n",
    "# Setup Tweepy API Authentication\n",
    "auth = tweepy.OAuthHandler(consumer_key, consumer_secret)\n",
    "auth.set_access_token(access_token, access_token_secret)\n",
    "api = tweepy.API(auth, parser=tweepy.parsers.JSONParser())"
   ]
  },
  {
   "cell_type": "code",
   "execution_count": 3,
   "metadata": {
    "collapsed": false
   },
   "outputs": [
    {
     "data": {
      "text/html": [
       "<div>\n",
       "<table border=\"1\" class=\"dataframe\">\n",
       "  <thead>\n",
       "    <tr style=\"text-align: right;\">\n",
       "      <th></th>\n",
       "      <th>Screen Name</th>\n",
       "      <th>Real Name</th>\n",
       "      <th>Tweets</th>\n",
       "      <th>Followers</th>\n",
       "      <th>Following</th>\n",
       "      <th>Favorites Count</th>\n",
       "    </tr>\n",
       "  </thead>\n",
       "  <tbody>\n",
       "    <tr>\n",
       "      <th>0</th>\n",
       "      <td>katyperry</td>\n",
       "      <td>KATY PERRY</td>\n",
       "      <td>8593</td>\n",
       "      <td>101241907</td>\n",
       "      <td>204</td>\n",
       "      <td>5601</td>\n",
       "    </tr>\n",
       "    <tr>\n",
       "      <th>1</th>\n",
       "      <td>justinbieber</td>\n",
       "      <td>Justin Bieber</td>\n",
       "      <td>30658</td>\n",
       "      <td>98569916</td>\n",
       "      <td>304464</td>\n",
       "      <td>3428</td>\n",
       "    </tr>\n",
       "    <tr>\n",
       "      <th>2</th>\n",
       "      <td>BarackObama</td>\n",
       "      <td>Barack Obama</td>\n",
       "      <td>15451</td>\n",
       "      <td>92202146</td>\n",
       "      <td>628906</td>\n",
       "      <td>10</td>\n",
       "    </tr>\n",
       "    <tr>\n",
       "      <th>3</th>\n",
       "      <td>Taylorswift13</td>\n",
       "      <td>Taylor Swift</td>\n",
       "      <td>4142</td>\n",
       "      <td>85443742</td>\n",
       "      <td>245</td>\n",
       "      <td>2096</td>\n",
       "    </tr>\n",
       "    <tr>\n",
       "      <th>4</th>\n",
       "      <td>rihanna</td>\n",
       "      <td>Rihanna</td>\n",
       "      <td>9927</td>\n",
       "      <td>75510534</td>\n",
       "      <td>1129</td>\n",
       "      <td>1000</td>\n",
       "    </tr>\n",
       "  </tbody>\n",
       "</table>\n",
       "</div>"
      ],
      "text/plain": [
       "     Screen Name      Real Name Tweets  Followers Following Favorites Count\n",
       "0      katyperry     KATY PERRY   8593  101241907       204            5601\n",
       "1   justinbieber  Justin Bieber  30658   98569916    304464            3428\n",
       "2    BarackObama   Barack Obama  15451   92202146    628906              10\n",
       "3  Taylorswift13   Taylor Swift   4142   85443742       245            2096\n",
       "4        rihanna        Rihanna   9927   75510534      1129            1000"
      ]
     },
     "execution_count": 3,
     "metadata": {},
     "output_type": "execute_result"
    }
   ],
   "source": [
    "# Import CSV file into Data Frame\n",
    "popular_tweeters = pd.read_csv(\"PopularAcounts.csv\", dtype=str)\n",
    "\n",
    "# Iterate through DataFrame\n",
    "for index, row in popular_tweeters.iterrows():\n",
    "    try:\n",
    "        # Grab the username\n",
    "        target_user = row[\"Screen Name\"]\n",
    "        # print(target_user)\n",
    "\n",
    "        # Use the username with the Twitter API get_user\n",
    "        user_account = api.get_user(target_user)\n",
    "        user_real_name = user_account[\"name\"]\n",
    "\n",
    "        # Get the specific column data\n",
    "        user_tweets = user_account[\"statuses_count\"]\n",
    "        user_followers = user_account[\"followers_count\"]\n",
    "        user_following = user_account[\"friends_count\"]\n",
    "        user_favorites = user_account[\"favourites_count\"]\n",
    "\n",
    "        # Replace the row information for each\n",
    "        popular_tweeters.set_value(index, \"Real Name\", user_real_name)\n",
    "        popular_tweeters.set_value(index, \"Tweets\", user_tweets)\n",
    "        popular_tweeters.set_value(index, \"Followers\", user_followers)\n",
    "        popular_tweeters.set_value(index, \"Following\", user_following)\n",
    "        popular_tweeters.set_value(index, \"Favorites Count\", user_favorites)\n",
    "    \n",
    "    except:\n",
    "        continue\n",
    "        \n",
    "# Export the new CSV\n",
    "popular_tweeters.to_csv(\"PopularAcounts_New.csv\", index=False)\n",
    "\n",
    "# View the DataFrame\n",
    "popular_tweeters.head()"
   ]
  },
  {
   "cell_type": "code",
   "execution_count": 42,
   "metadata": {
    "collapsed": false
   },
   "outputs": [
    {
     "data": {
      "text/html": [
       "<div>\n",
       "<table border=\"1\" class=\"dataframe\">\n",
       "  <thead>\n",
       "    <tr style=\"text-align: right;\">\n",
       "      <th></th>\n",
       "      <th>Average Favorites Count</th>\n",
       "      <th>Average Follower Count</th>\n",
       "      <th>Average Following Count</th>\n",
       "      <th>Average Tweet Count</th>\n",
       "    </tr>\n",
       "  </thead>\n",
       "  <tbody>\n",
       "    <tr>\n",
       "      <th>0</th>\n",
       "      <td>1753.673469</td>\n",
       "      <td>4.521804e+07</td>\n",
       "      <td>32578.918367</td>\n",
       "      <td>29589.204082</td>\n",
       "    </tr>\n",
       "  </tbody>\n",
       "</table>\n",
       "</div>"
      ],
      "text/plain": [
       "   Average Favorites Count  Average Follower Count  Average Following Count  \\\n",
       "0              1753.673469            4.521804e+07             32578.918367   \n",
       "\n",
       "   Average Tweet Count  \n",
       "0         29589.204082  "
      ]
     },
     "execution_count": 42,
     "metadata": {},
     "output_type": "execute_result"
    }
   ],
   "source": [
    "# Calculate Averages\n",
    "average_tweet_count = popular_tweeters[\"Tweets\"].mean()\n",
    "average_followers = popular_tweeters[\"Followers\"].mean()\n",
    "average_following_count = popular_tweeters[\"Following\"].mean()\n",
    "average_favorites_count = popular_tweeters[\"Favorites Count\"].mean()\n",
    "\n",
    "# Create DataFrame\n",
    "averages = {\"Average Tweet Count\": average_tweet_count, \n",
    "            \"Average Follower Count\": average_followers, \n",
    "            \"Average Following Count\": average_following_count,\n",
    "            \"Average Favorites Count\": average_favorites_count}\n",
    "\n",
    "# Create a Dataframe of hte averages\n",
    "pd.DataFrame(averages, index=[0])"
   ]
  },
  {
   "cell_type": "code",
   "execution_count": null,
   "metadata": {
    "collapsed": true
   },
   "outputs": [],
   "source": []
  }
 ],
 "metadata": {
  "anaconda-cloud": {},
  "kernelspec": {
   "display_name": "Python 3",
   "language": "python",
   "name": "python3"
  },
  "language_info": {
   "codemirror_mode": {
    "name": "ipython",
    "version": 3
   },
   "file_extension": ".py",
   "mimetype": "text/x-python",
   "name": "python",
   "nbconvert_exporter": "python",
   "pygments_lexer": "ipython3",
   "version": "3.6.0"
  }
 },
 "nbformat": 4,
 "nbformat_minor": 1
}
