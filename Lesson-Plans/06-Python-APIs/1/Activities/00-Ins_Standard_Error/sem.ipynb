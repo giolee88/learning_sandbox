{
  "cells": [
    {
      "cell_type": "code",
      "source": [
        "# Dependencies\n",
        "from random import random\n",
        "import matplotlib.pyplot as plt\n",
        "import numpy as np\n",
        "# https://docs.scipy.org/doc/scipy/reference/generated/scipy.stats.sem.html\n",
        "from scipy.stats import sem"
      ],
      "outputs": [],
      "execution_count": 1,
      "metadata": {
        "collapsed": false,
        "outputHidden": false,
        "inputHidden": false
      }
    },
    {
      "cell_type": "code",
      "source": [
        "# \"Will you vote for a republican in this election?\"\n",
        "sample_size = 100\n",
        "# Like a nested for-loop, there is a list comprehension nested inside the outer list comprehension\n",
        "# The inner list comprehension generates a list of True and False values.\n",
        "# The outer list comprehension generates ten such lists\n",
        "samples = [[True if random() < 0.5 else False for x in range(0, sample_size)]\n",
        "           for y in range(0, 10)]\n",
        "x_axis = np.arange(0, len(samples), 1)"
      ],
      "outputs": [],
      "execution_count": 2,
      "metadata": {
        "collapsed": false,
        "outputHidden": false,
        "inputHidden": false
      }
    },
    {
      "cell_type": "code",
      "source": [
        "x_axis"
      ],
      "outputs": [
        {
          "output_type": "execute_result",
          "execution_count": 3,
          "data": {
            "text/plain": [
              "array([0, 1, 2, 3, 4, 5, 6, 7, 8, 9])"
            ]
          },
          "metadata": {}
        }
      ],
      "execution_count": 3,
      "metadata": {
        "collapsed": false,
        "outputHidden": false,
        "inputHidden": false
      }
    },
    {
      "cell_type": "code",
      "source": [
        "# Evaluate the mean of each list in samples\n",
        "means = [np.mean(s) for s in samples]\n",
        "# Evaluate the standard error measurement for each list in samples\n",
        "standard_errors = [sem(s) for s in samples]"
      ],
      "outputs": [],
      "execution_count": 4,
      "metadata": {
        "collapsed": false,
        "outputHidden": false,
        "inputHidden": false
      }
    },
    {
      "cell_type": "code",
      "source": [
        "# Generate an errorbar plot\n",
        "# The 'yerr' argument refers to the error bar for each sample, oriented to the y-axis\n",
        "plt.errorbar(x_axis, means, yerr=standard_errors, color='r', marker='o', markersize=5, linestyle='dashed', linewidth=0.5)"
      ],
      "outputs": [
        {
          "output_type": "execute_result",
          "execution_count": 5,
          "data": {
            "text/plain": [
              "<Container object of 3 artists>"
            ]
          },
          "metadata": {}
        }
      ],
      "execution_count": 5,
      "metadata": {
        "collapsed": false,
        "outputHidden": false,
        "inputHidden": false
      }
    },
    {
      "cell_type": "code",
      "source": [
        "# Display the plot\n",
        "plt.show()"
      ],
      "outputs": [
        {
          "output_type": "display_data",
          "data": {
            "text/plain": [
              "<matplotlib.figure.Figure at 0x10cf66a58>"
            ],
            "image/png": "[encoded data removed]"
          },
          "metadata": {}
        }
      ],
      "execution_count": 6,
      "metadata": {
        "collapsed": false,
        "outputHidden": false,
        "inputHidden": false
      }
    },
    {
      "cell_type": "code",
      "source": [],
      "outputs": [],
      "execution_count": null,
      "metadata": {
        "collapsed": false,
        "outputHidden": false,
        "inputHidden": false
      }
    }
  ],
  "metadata": {
    "kernelspec": {
      "name": "python3",
      "language": "python",
      "display_name": "Python 3"
    },
    "kernel_info": {
      "name": "python3"
    },
    "language_info": {
      "name": "python",
      "version": "3.6.0",
      "mimetype": "text/x-python",
      "codemirror_mode": {
        "name": "ipython",
        "version": 3
      },
      "pygments_lexer": "ipython3",
      "nbconvert_exporter": "python",
      "file_extension": ".py"
    },
    "nteract": {
      "version": "0.2.0"
    }
  },
  "nbformat": 4,
  "nbformat_minor": 4
}