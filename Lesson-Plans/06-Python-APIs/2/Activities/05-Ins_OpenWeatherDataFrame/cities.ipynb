{
 "cells": [
  {
   "cell_type": "code",
   "execution_count": 12,
   "metadata": {
    "collapsed": true
   },
   "outputs": [],
   "source": [
    "# Dependencies\n",
    "import csv\n",
    "import matplotlib.pyplot as plt\n",
    "import requests as req\n",
    "import pandas as pd\n",
    "import json"
   ]
  },
  {
   "cell_type": "code",
   "execution_count": 13,
   "metadata": {
    "collapsed": true
   },
   "outputs": [],
   "source": [
    "# Save config information.\n",
    "api_key = \"25bc90a1196e6f153eece0bc0b0fc9eb\"\n",
    "endpoint = \"http://api.openweathermap.org/data/2.5/weather\"\n",
    "units = \"metric\"\n",
    "\n",
    "# Build partial query URL\n",
    "params = {\n",
    "    'appid': api_key,\n",
    "    'units': units\n",
    "}"
   ]
  },
  {
   "cell_type": "code",
   "execution_count": 14,
   "metadata": {},
   "outputs": [
    {
     "data": {
      "text/plain": [
       "[{'base': 'stations',\n",
       "  'clouds': {'all': 90},\n",
       "  'cod': 200,\n",
       "  'coord': {'lat': 48.85, 'lon': 2.35},\n",
       "  'dt': 1512232200,\n",
       "  'id': 2988507,\n",
       "  'main': {'humidity': 92,\n",
       "   'pressure': 1027,\n",
       "   'temp': -0.57,\n",
       "   'temp_max': 1,\n",
       "   'temp_min': -2},\n",
       "  'name': 'Paris',\n",
       "  'sys': {'country': 'FR',\n",
       "   'id': 5617,\n",
       "   'message': 0.2569,\n",
       "   'sunrise': 1512199492,\n",
       "   'sunset': 1512230134,\n",
       "   'type': 1},\n",
       "  'visibility': 4300,\n",
       "  'weather': [{'description': 'mist',\n",
       "    'icon': '50n',\n",
       "    'id': 701,\n",
       "    'main': 'Mist'}],\n",
       "  'wind': {'deg': 340, 'speed': 2.1}},\n",
       " {'base': 'stations',\n",
       "  'clouds': {'all': 90},\n",
       "  'cod': 200,\n",
       "  'coord': {'lat': 51.51, 'lon': -0.13},\n",
       "  'dt': 1512233400,\n",
       "  'id': 2643743,\n",
       "  'main': {'humidity': 81,\n",
       "   'pressure': 1026,\n",
       "   'temp': 4.99,\n",
       "   'temp_max': 6,\n",
       "   'temp_min': 4},\n",
       "  'name': 'London',\n",
       "  'sys': {'country': 'GB',\n",
       "   'id': 5091,\n",
       "   'message': 0.0059,\n",
       "   'sunrise': 1512200781,\n",
       "   'sunset': 1512230034,\n",
       "   'type': 1},\n",
       "  'visibility': 10000,\n",
       "  'weather': [{'description': 'haze',\n",
       "    'icon': '50n',\n",
       "    'id': 721,\n",
       "    'main': 'Haze'},\n",
       "   {'description': 'mist', 'icon': '50n', 'id': 701, 'main': 'Mist'}],\n",
       "  'wind': {'deg': 250, 'speed': 5.1}},\n",
       " {'base': 'stations',\n",
       "  'clouds': {'all': 0},\n",
       "  'cod': 200,\n",
       "  'coord': {'lat': 59.91, 'lon': 10.75},\n",
       "  'dt': 1512233400,\n",
       "  'id': 3143244,\n",
       "  'main': {'humidity': 92,\n",
       "   'pressure': 1009,\n",
       "   'temp': -2,\n",
       "   'temp_max': -2,\n",
       "   'temp_min': -2},\n",
       "  'name': 'Oslo',\n",
       "  'sys': {'country': 'NO',\n",
       "   'id': 5325,\n",
       "   'message': 0.1706,\n",
       "   'sunrise': 1512201285,\n",
       "   'sunset': 1512224301,\n",
       "   'type': 1},\n",
       "  'weather': [{'description': 'clear sky',\n",
       "    'icon': '01n',\n",
       "    'id': 800,\n",
       "    'main': 'Clear'}],\n",
       "  'wind': {'speed': 1}},\n",
       " {'base': 'stations',\n",
       "  'clouds': {'all': 0},\n",
       "  'cod': 200,\n",
       "  'coord': {'lat': 39.91, 'lon': 116.4},\n",
       "  'dt': 1512232200,\n",
       "  'id': 1816670,\n",
       "  'main': {'humidity': 79,\n",
       "   'pressure': 1024,\n",
       "   'temp': -5,\n",
       "   'temp_max': -5,\n",
       "   'temp_min': -5},\n",
       "  'name': 'Beijing',\n",
       "  'sys': {'country': 'CN',\n",
       "   'id': 7405,\n",
       "   'message': 0.0028,\n",
       "   'sunrise': 1512170291,\n",
       "   'sunset': 1512204580,\n",
       "   'type': 1},\n",
       "  'visibility': 4000,\n",
       "  'weather': [{'description': 'mist',\n",
       "    'icon': '50n',\n",
       "    'id': 701,\n",
       "    'main': 'Mist'}],\n",
       "  'wind': {'deg': 340, 'speed': 2}}]"
      ]
     },
     "execution_count": 14,
     "metadata": {},
     "output_type": "execute_result"
    }
   ],
   "source": [
    "weather_data = []\n",
    "cities = [\"Paris\",\"London\",\"Oslo\",\"Beijing\"]\n",
    "\n",
    "# Loop through the list of cities and perform a request for data on each\n",
    "for city in cities:\n",
    "    params['q'] = city\n",
    "    response = req.get(endpoint, params=params).json()\n",
    "    weather_data.append(response)\n",
    "\n",
    "weather_data"
   ]
  },
  {
   "cell_type": "code",
   "execution_count": 15,
   "metadata": {},
   "outputs": [
    {
     "data": {
      "text/html": [
       "<div>\n",
       "<style>\n",
       "    .dataframe thead tr:only-child th {\n",
       "        text-align: right;\n",
       "    }\n",
       "\n",
       "    .dataframe thead th {\n",
       "        text-align: left;\n",
       "    }\n",
       "\n",
       "    .dataframe tbody tr th {\n",
       "        vertical-align: top;\n",
       "    }\n",
       "</style>\n",
       "<table border=\"1\" class=\"dataframe\">\n",
       "  <thead>\n",
       "    <tr style=\"text-align: right;\">\n",
       "      <th></th>\n",
       "      <th>lat</th>\n",
       "      <th>temp</th>\n",
       "    </tr>\n",
       "  </thead>\n",
       "  <tbody>\n",
       "    <tr>\n",
       "      <th>0</th>\n",
       "      <td>48.85</td>\n",
       "      <td>-0.57</td>\n",
       "    </tr>\n",
       "    <tr>\n",
       "      <th>1</th>\n",
       "      <td>51.51</td>\n",
       "      <td>4.99</td>\n",
       "    </tr>\n",
       "    <tr>\n",
       "      <th>2</th>\n",
       "      <td>59.91</td>\n",
       "      <td>-2.00</td>\n",
       "    </tr>\n",
       "    <tr>\n",
       "      <th>3</th>\n",
       "      <td>39.91</td>\n",
       "      <td>-5.00</td>\n",
       "    </tr>\n",
       "  </tbody>\n",
       "</table>\n",
       "</div>"
      ],
      "text/plain": [
       "     lat  temp\n",
       "0  48.85 -0.57\n",
       "1  51.51  4.99\n",
       "2  59.91 -2.00\n",
       "3  39.91 -5.00"
      ]
     },
     "execution_count": 15,
     "metadata": {},
     "output_type": "execute_result"
    }
   ],
   "source": [
    "# Extract interesting data from responses\n",
    "lat_data = [data.get(\"coord\").get(\"lat\") for data in weather_data]\n",
    "temp_data = [data.get(\"main\").get(\"temp\") for data in weather_data]\n",
    "\n",
    "weather_data = {\"temp\": temp_data, \"lat\": lat_data}\n",
    "weather_data = pd.DataFrame(weather_data)\n",
    "weather_data.head()"
   ]
  },
  {
   "cell_type": "code",
   "execution_count": 5,
   "metadata": {},
   "outputs": [
    {
     "data": {
      "image/png": "[encoded data removed]",
      "text/plain": [
       "<matplotlib.figure.Figure at 0x229657f52b0>"
      ]
     },
     "metadata": {},
     "output_type": "display_data"
    }
   ],
   "source": [
    "# Build a scatter plot for each data type\n",
    "plt.scatter(weather_data[\"lat\"], weather_data[\"temp\"], marker=\"o\")\n",
    "\n",
    "# Incorporate the other graph properties\n",
    "plt.title(\"Temperature in World Cities\")\n",
    "plt.ylabel(\"Temperature (Celsius)\")\n",
    "plt.xlabel(\"Latitude\")\n",
    "plt.grid(True)\n",
    "\n",
    "# Save the figure\n",
    "plt.savefig(\"TemperatureInWorldCities.png\")\n",
    "\n",
    "# Show plot\n",
    "plt.show()"
   ]
  },
  {
   "cell_type": "code",
   "execution_count": null,
   "metadata": {
    "collapsed": true
   },
   "outputs": [],
   "source": []
  }
 ],
 "metadata": {
  "kernelspec": {
   "display_name": "Python [conda env:PythonData]",
   "language": "python",
   "name": "conda-env-PythonData-py"
  },
  "language_info": {
   "codemirror_mode": {
    "name": "ipython",
    "version": 3
   },
   "file_extension": ".py",
   "mimetype": "text/x-python",
   "name": "python",
   "nbconvert_exporter": "python",
   "pygments_lexer": "ipython3",
   "version": "3.6.3"
  }
 },
 "nbformat": 4,
 "nbformat_minor": 2
}
