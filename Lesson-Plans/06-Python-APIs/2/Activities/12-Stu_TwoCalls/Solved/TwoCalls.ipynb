{
 "cells": [
  {
   "cell_type": "code",
   "execution_count": 6,
   "metadata": {},
   "outputs": [],
   "source": [
    "# Dependencies\n",
    "import requests as req\n",
    "\n",
    "url = \"http://api.worldbank.org/\"\n",
    "format = \"json\""
   ]
  },
  {
   "cell_type": "code",
   "execution_count": 3,
   "metadata": {
    "collapsed": true
   },
   "outputs": [],
   "source": [
    "# Get the list of lending types the world bank has\n",
    "lending_response = req.get(url + \"lendingTypes\" + \"?format=\" + format).json()\n",
    "lending_types = [lending_type[\"id\"] for lending_type in lending_response[1]]"
   ]
  },
  {
   "cell_type": "code",
   "execution_count": 4,
   "metadata": {
    "collapsed": true
   },
   "outputs": [],
   "source": [
    "# Next, determine how many countries fall into each lending type.\n",
    "# Hint: Look at the first element of the response array.\n",
    "country_count_by_type = []\n",
    "for lending_type in lending_types:\n",
    "    query = url + \"countries?lendingType=\" + lending_type + \"&format=\" + format\n",
    "\n",
    "    response = req.get(query)\n",
    "    json = response.json()\n",
    "\n",
    "    data = {\"lending_type\": lending_type, \"count\": json[0][\"total\"]}\n",
    "    country_count_by_type.append(data)"
   ]
  },
  {
   "cell_type": "code",
   "execution_count": 5,
   "metadata": {},
   "outputs": [
    {
     "name": "stdout",
     "output_type": "stream",
     "text": [
      "The number of countries with lending type IBD is 69.\n",
      "The number of countries with lending type IDB is 16.\n",
      "The number of countries with lending type IDX is 59.\n",
      "The number of countries with lending type LNX is 74.\n"
     ]
    }
   ],
   "source": [
    "# Print the number of countries of each lending type\n",
    "for data in country_count_by_type:\n",
    "    lending_type = data[\"lending_type\"]\n",
    "    count = data[\"count\"]\n",
    "    print(\"The number of countries with lending type \" + lending_type +\n",
    "          \" is \" + str(count) + \".\")"
   ]
  },
  {
   "cell_type": "code",
   "execution_count": null,
   "metadata": {
    "collapsed": true
   },
   "outputs": [],
   "source": []
  }
 ],
 "metadata": {
  "kernelspec": {
   "display_name": "Python [conda env:py36]",
   "language": "python",
   "name": "conda-env-py36-py"
  },
  "language_info": {
   "codemirror_mode": {
    "name": "ipython",
    "version": 3
   },
   "file_extension": ".py",
   "mimetype": "text/x-python",
   "name": "python",
   "nbconvert_exporter": "python",
   "pygments_lexer": "ipython3",
   "version": "3.6.1"
  }
 },
 "nbformat": 4,
 "nbformat_minor": 2
}
